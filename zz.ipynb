{
  "nbformat": 4,
  "nbformat_minor": 0,
  "metadata": {
    "colab": {
      "name": "Copy of teste.ipynb",
      "provenance": []
    },
    "kernelspec": {
      "name": "python3",
      "display_name": "Python 3"
    }
  },
  "cells": [
    {
      "cell_type": "markdown",
      "metadata": {
        "id": "O0HOw2akX0Vu",
        "colab_type": "text"
      },
      "source": [
        "Eu estou fazendo um teste. Abaixo vou digitar alguns comandos em latex."
      ]
    },
    {
      "cell_type": "code",
      "metadata": {
        "id": "57vtcpDcWhWQ",
        "colab_type": "code",
        "colab": {}
      },
      "source": [
        ""
      ],
      "execution_count": 0,
      "outputs": []
    },
    {
      "cell_type": "code",
      "metadata": {
        "id": "skqh6eot4pkD",
        "colab_type": "code",
        "colab": {}
      },
      "source": [
        ""
      ],
      "execution_count": 0,
      "outputs": []
    },
    {
      "cell_type": "markdown",
      "metadata": {
        "id": "_J6NaM2gWh8q",
        "colab_type": "text"
      },
      "source": [
        "$y=x^2$"
      ]
    },
    {
      "cell_type": "code",
      "metadata": {
        "id": "4dlR9I8YWig0",
        "colab_type": "code",
        "colab": {}
      },
      "source": [
        ""
      ],
      "execution_count": 0,
      "outputs": []
    },
    {
      "cell_type": "markdown",
      "metadata": {
        "id": "QbTPbvYWX4P7",
        "colab_type": "text"
      },
      "source": [
        "$\\frac{1}{2}$\n",
        "\n"
      ]
    },
    {
      "cell_type": "markdown",
      "metadata": {
        "id": "Cf9Gu6DxYtfE",
        "colab_type": "text"
      },
      "source": [
        "$\\int_a^bf(x)dx$ "
      ]
    }
  ]
}